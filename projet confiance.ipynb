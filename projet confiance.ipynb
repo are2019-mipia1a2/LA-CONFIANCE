import random
import pygame
from pygame.locals import*
import time
import pickle

#initialisation pygame
pygame.init()
fenetre= pygame.display.set_mode((1400,934),RESIZABLE)
accueil = pygame.image.load("page_accueil.png").convert()
fond = pygame.image.load("fond2.png").convert()
fin = pygame.image.load("page_resultats.png").convert()
perso1 = pygame.image.load("copieur.png").convert_alpha()
perso2 = pygame.image.load("radin.png").convert_alpha()
perso3 = pygame.image.load("mefiant.png").convert_alpha()
perso4 = pygame.image.load("tricheur.png").convert_alpha()
perso5 = pygame.image.load("cooperatif.png").convert_alpha()
perso6 = pygame.image.load("aleatoire.png").convert_alpha()
perso7 = pygame.image.load("alternant.png").convert_alpha()
haut = pygame.image.load("selectioneur.png").convert_alpha()
bas = pygame.image.load("selectioneur2.png").convert_alpha()
cache = pygame.image.load("cache.png").convert_alpha()
#------variables--------
k=0
argent=0
joueurs={"Copieur":"joue",
        "Radin":"joue",
        "Mefiant":"triche",
        "Tricheur":"triche",
        "Cooperatif":"joue",
        "Random":"joue",
        "Alternant":"joue"}

liste_ordre=["Cooperatif","Copieur","Alternant","Random","Mefiant","Radin","Tricheur"]

liste_couleur={"Copieur":perso1,
                "Radin":perso2,
                "Mefiant":perso3,
                "Tricheur":perso4,
                "Cooperatif":perso5,
                "Random":perso6,
                "Alternant":perso7}

ech_continent={"Afrique":{"Europe":10,"Asie":4},
               "Amérique du Nord":{},
               "Amérique du Sud":{"Asie":2,"Amérique du Nord":7},
               "Europe":{"Amérique du Nord":2},
               "Asie":{"Amérique du Nord":10,"Europe":10,"Océanie":2},
               "Océanie":{"Europe":1},
               "Groenland":{} }

nb_pers_cont={"Afrique":121,
               "Amérique du Nord":38,
               "Amérique du Sud":61,
               "Europe":76,
               "Asie":456,
               "Océanie":8}


test=True
a,b,c,d=2,-1,3,0
gain=[a,b,c,d]
nb_manche=5
pourc_disparition=5
pers_continent_Europe=[]
pers_continent_Asie=[]
pers_continent_Amnord=[]
pers_continent_Amsud=[]
pers_continent_Oceanie=[]
pers_continent_Afrique=[]
Asie = {"Copieur":68,"Radin":46,"Mefiant":137,"Tricheur":68,"Cooperatif":91,"Random":23,"Alternant":23}
Afrique = {"Copieur":30,"Radin":6,"Mefiant":6,"Tricheur":25,"Cooperatif":42,"Random":6,"Alternant":6}
Europe={"Copieur":8,"Radin":15,"Mefiant":22,"Tricheur":15,"Cooperatif":8,"Random":4,"Alternant":4}
Amerique_sud={"Copieur":15,"Radin":9,"Mefiant":6,"Tricheur":12,"Cooperatif":9,"Random":4,"Alternant":6}
Amerique_Nord={"Copieur":4,"Radin":4,"Mefiant":4,"Tricheur":11,"Cooperatif":11,"Random":2,"Alternant":2}
Oceanie={"Copieur":1,"Radin":1,"Mefiant":1,"Tricheur":1,"Cooperatif":2,"Random":1,"Alternant":1}
tot={"Copieur":126,"Radin":81,"Mefiant":176,"Tricheur":132,"Cooperatif":163,"Random":40,"Alternant":42}
#-------fonctions----------

#-----déroulement interne d'une partie
#fait le déroulement d'une partie entre 2 joueurs
def partie(j1,j2,gain):
    if j1[1]==j2[1]: #si les 2 joueurs veulent faire la meme chose
        if j1[1]=="joue": #s'ils veulent coopérer
            j1[2]+=gain[0]
            j2[2]+=gain[0]
        else : #sinon ils trichent tous les 2
            j1[2]+=gain[3]
            j2[2]+=gain[3]
    else: #soit ils ne veulent pas faire la meme chose
        if j1[1]=="joue":
            j1[2]+=gain[1]
            j2[2]+=gain[2]
        else:
            j1[2]+=gain[2]
            j2[2]+=gain[1]
    j2temp=j2[:]
#si j1 triche
    if j1[1]=="triche":
#si c'est un C ou un M il copie j1
        if j2[0]=="Copieur" or j2[0]=="Mefiant":
            j2temp[1]="triche"
#si c'est un R il triche
        if j2[0]=="Radin":
            j2temp[1]="triche"
#si j1 joue
    elif j1[1]=="joue":
#si c'est un C ou un M il copie j1
        if j2[0]=="Copieur" or j2[0]=="Mefiant":
            j2temp[1]="joue"



    if j1[0]=="Alternant":
        if j1[1]=="joue":
            j1[1]="triche"
        else:
            j1[1]="joue"

    if j2[1]=="triche":
        if j1[0]=="Copieur" or j1[0]=="Mefiant":
            j1[1]="triche"
        if j1[0]=="Radin":
            j1[1]="triche"
    elif j2[1]=="joue":
        if j1[0]=="Copieur" or j1[0]=="Mefiant":
            j1[1]="joue"

    if j2temp[0]=="Alternant":
        if j2temp[1]=="triche":
            j2temp[1]="joue"
        else:
            j2temp[1]="triche"

    if j1[0]=="Random":
        valalea=random.randrange(0,2)
        if valalea==1:
            j1[1]="joue"
        else:
            j1[1]="triche"
    if j2[0]=="Random":
        valalea=random.randrange(0,2)
        if valalea==1:
            j2temp[1]="joue"
        else:
            j2temp[1]="triche"


    j2=j2temp
    return j1,j2

def reinitialisation_type(joueur):
    if joueur[0]=="Radin":
        joueur[1]="joue"
    if joueur[0]=="Mefiant":
        joueur[1]="triche"
    if joueur[0]=="Copieur":
        joueur[1]="joue"
    return joueur

#------continents
# créer les continents au départ
def creation_continent(nb_pers_cont, joueurs, pers_continent,Type):
    for i in range(0,nb_pers_cont):
        pers_continent.append([Type,joueurs[Type],argent])
    return pers_continent


#fait chaque match entre le nombre de personne sur un continent
def continent(nb_manche,pers_continent,gain):
    for e in range(0,len(pers_continent)):
        for j in range(e+1,len(pers_continent)):
            for i in range (0,nb_manche):
                pers_continent[e],pers_continent[j]=partie(pers_continent[e],pers_continent[j],gain)
            pers_continent[e]=reinitialisation_type(pers_continent[e])
            pers_continent[j]=reinitialisation_type(pers_continent[j])
    return pers_continent

#suprime x% et duplique
def Maj_pop(pers_continent,pourc_disparition):
    nb_personne=len(pers_continent)
    pourc=int(round(pourc_disparition/100*nb_personne))
    liste_classement_argent=classement_de_liste(pers_continent)
    pers_continenttemp=[]
    pers_continenttemp=pers_continent.copy()
    for i in pers_continent:
        if i[2] in liste_classement_argent[0:pourc]:
            pers_continenttemp.remove(i)
        if i[2] in liste_classement_argent[len(pers_continent)-pourc+1:len(pers_continent)+1]:
            pers_continenttemp.append(i)
    pers_continent=pers_continenttemp
    return pers_continent

#créer une liste croissante des gains
def classement_de_liste(pers_continent):
    liste_classement_argent=[]
    for e in pers_continent:
        liste_classement_argent.append(e[2])
    liste_classement_argent.sort()
    return liste_classement_argent

#creer une liste pour compter les échanges entre les cont
def crea_list_comptage_echan(Continent):
    liste_cree=[]
    for i in ech_continent[Continent]:
        liste_cree.append(ech_continent[Continent][i])
    return liste_cree

#ajoute les listes temporaires
def ajout_temp(listcon,listconttemp):
    for i in listconttemp:
        listcon.append(i)
    return listcon

#classe les tetes pour les afficher dans l'ordre
def classement_perso(pers_continent):
    pers_cont_temp=[]
    for e in liste_couleur:
        for i in pers_continent:
            if i[0]==e:
                pers_cont_temp.append(i)
    return pers_cont_temp

#fonction qui équilibres la population sur les continents
def equili_fin(Continent, pers_continent,nb_pers_cont):
    while len(pers_continent)>nb_pers_cont[Continent]:
        lst_classe=classement_de_liste(pers_continent)
        for i in pers_continent:
            if i[2] == lst_classe[0]:
                pers_continent.remove(i)
    while len(pers_continent)<nb_pers_cont[Continent]:
        valalea=random.randrange(0,len(pers_continent))
        pers_continent.append(pers_continent[valalea])
    return pers_continent

def compte_pers(pers_continent):
    dict_comptage={"Copieur":0,
                "Radin":0,
                "Mefiant":0,
                "Tricheur":0,
                "Cooperatif":0,
                "Random":0,
                "Alternant":0}
    for i in pers_continent:
        for e in liste_couleur:
            if i[0]==e:
                dict_comptage[e]+=1
    return dict_comptage

def compte_tot(dict_comptage1,dict_comptage2,dict_comptage3,dict_comptage4,
                dict_comptage5,dict_comptage6):
    dict_tot={"Copieur":0,
                "Radin":0,
                "Mefiant":0,
                "Tricheur":0,
                "Cooperatif":0,
                "Random":0,
                "Alternant":0}
    for i in dict_comptage1:
        dict_tot[i]+=dict_comptage1[i]
        dict_tot[i]+=dict_comptage2[i]
        dict_tot[i]+=dict_comptage3[i]
        dict_tot[i]+=dict_comptage4[i]
        dict_tot[i]+=dict_comptage5[i]
        dict_tot[i]+=dict_comptage6[i]
    return dict_tot




#-------programme---------

#création de la population sur les continents
for e in Asie:
    creation_continent(Asie[e], joueurs, pers_continent_Asie, e)
for e in Afrique:
    creation_continent(Afrique[e], joueurs, pers_continent_Afrique, e)
for e in Europe:
    creation_continent(Europe[e], joueurs, pers_continent_Europe, e)
for e in Amerique_sud:
    creation_continent(Amerique_sud[e], joueurs, pers_continent_Amsud, e)
for e in Amerique_Nord:
    creation_continent(Amerique_Nord[e], joueurs, pers_continent_Amnord, e)
for e in Oceanie:
    creation_continent(Oceanie[e], joueurs, pers_continent_Oceanie, e)

fenetre.blit(accueil, (0,0))
pygame.display.flip()
essai=True
nb_tour=0
while k!=1:
    #boucle affichant la page d'accueil
    while test:
        #affiche les valeurs à l'écran
        myfont = pygame.font.SysFont("monospace", 28)
        score_display = myfont.render(str(nb_manche), 1, (255,255,255))
        affich_pourc = myfont.render(str(int(pourc_disparition))+"%", 1, (255,255,255))
        affich_a = myfont.render(str(a), 1, (255,255,255))
        affich_b = myfont.render(str(b), 1, (255,255,255))
        affich_c = myfont.render(str(c), 1, (255,255,255))
        affich_d = myfont.render(str(d), 1, (255,255,255))
        fenetre.blit(score_display, (170, 400))
        fenetre.blit(affich_pourc, (440, 400))
        fenetre.blit(affich_a, (975, 345))
        fenetre.blit(affich_b, (885, 430))
        fenetre.blit(affich_c, (1060, 430))
        fenetre.blit(affich_d, (975, 520))
        pygame.display.flip()
        for event in pygame.event.get():
            #test pour quitter la fenetre
            if event.type==QUIT or event.type==KEYDOWN and event.key==K_ESCAPE:
                k=1
                test=False

            #test pour connaitre l'emplacement de la souris
            if event.type == MOUSEBUTTONDOWN and event.button == 1:
                #augmente ou réduit le nombre de manche
                #test pour lancer la simulation
                if event.type==KEYDOWN or event.pos[0]<1245 and event.pos[0]>1115 and event.pos[1]>640 and event.pos[1]<770:
                    test=False
                if  event.pos[0]<230 and event.pos[0]>130 and event.pos[1]>270 and event.pos[1]<370:
                    nb_manche+=1
                if  event.pos[0]<230 and event.pos[0]>130 and event.pos[1]>460 and event.pos[1]<560:
                    if nb_manche>1:
                        nb_manche-=1

                if  event.pos[0]<490 and event.pos[0]>390 and event.pos[1]>270 and event.pos[1]<370:
                    if int(pourc_disparition)<100:
                        pourc_disparition+=1
                if  event.pos[0]<490 and event.pos[0]>390 and event.pos[1]>460 and event.pos[1]<560:
                    if int(pourc_disparition)>1:
                        pourc_disparition-=1

                if  event.pos[0]<1000 and event.pos[0]>950 and event.pos[1]>300 and event.pos[1]<350:
                    a+=1
                if  event.pos[0]<1000 and event.pos[0]>950 and event.pos[1]>380 and event.pos[1]<430:
                    a-=1

                if  event.pos[0]<925 and event.pos[0]>875 and event.pos[1]>380 and event.pos[1]<430:
                    b+=1
                if  event.pos[0]<925 and event.pos[0]>875 and event.pos[1]>460 and event.pos[1]<510:
                    b-=1

                if  event.pos[0]<1095 and event.pos[0]>1045 and event.pos[1]>380 and event.pos[1]<430:
                    c+=1
                if  event.pos[0]<1095 and event.pos[0]>1045 and event.pos[1]>460 and event.pos[1]<510:
                    c-=1

                if  event.pos[0]<1000 and event.pos[0]>950 and event.pos[1]>470 and event.pos[1]<520:
                    d+=1
                if  event.pos[0]<1000 and event.pos[0]>950 and event.pos[1]>550 and event.pos[1]<600:
                    d-=1

                gain=[a,b,c,d]
                fenetre.blit(accueil, (0,0))
                pygame.display.flip()
#efface le fond pour afficher le fond principal | ne doit etre fait qu'une fois
    if essai:
        fenetre.blit(fond, (0,0))
        essai=False
    pygame.display.flip()
    for event in pygame.event.get():
        if event.type==QUIT or event.type==KEYDOWN and event.key==K_ESCAPE:
            k=1

    #ne s'active pas si on quitte le jeu|permet de quitter plus vite
    if k!=1:

        #affiche le nombre de tour passé en haut à droite
        nb_tour+=1
        affich_nb_tour = myfont.render(str(nb_tour), 1, (255,255,255))
        fenetre.blit(cache, (40, 40))
        fenetre.blit(affich_nb_tour, (90, 60))

#mise en place du jeu sur chaque continents avec tous les habitants
        pers_continent_Asie=continent(nb_manche,pers_continent_Asie,gain)
        pers_continent_Afrique=continent(nb_manche,pers_continent_Afrique,gain)
        pers_continent_Europe=continent(nb_manche,pers_continent_Europe,gain)
        pers_continent_Amsud=continent(nb_manche,pers_continent_Amsud,gain)
        pers_continent_Amnord=continent(nb_manche,pers_continent_Amnord,gain)
        pers_continent_Oceanie=continent(nb_manche,pers_continent_Oceanie,gain)
        pos=0
        pos2=0
        #affiche les bonhommes sur l'océanie
        pers_continent_Oceanie=classement_perso(pers_continent_Oceanie)
        for i in pers_continent_Oceanie:
            for e in liste_couleur:
                if e==i[0]:
                    fenetre.blit(liste_couleur[e], (1080+pos,560+pos2))
                    pos+=20
                    pygame.display.flip()
                    if pos==80:
                        pos2+=20
                        pos=0
        pos=0
        pos2=0
        #affiche les bonhommes sur l'Asie
        pers_continent_Asie=classement_perso(pers_continent_Asie)
        for i in pers_continent_Asie:
            for e in liste_couleur:
                if e==i[0]:
                    fenetre.blit(liste_couleur[e], (800+pos,100+pos2))
                    pos+=17
                    pygame.display.flip()
                    if pos==459:
                        pos2+=17
                        pos=0
        pos=0
        pos2=0
        #affiche les bonhommes sur l'Europe
        pers_continent_Europe=classement_perso(pers_continent_Europe)
        for i in pers_continent_Europe:
            for e in liste_couleur:
                if e==i[0]:
                    fenetre.blit(liste_couleur[e], (605+pos,170+pos2))
                    pos+=17
                    pygame.display.flip()
                    if pos==170:
                        pos2+=20
                        pos=0
        pos=0
        pos2=0
        #affiche les bonhommes sur l'Afrique
        pers_continent_Afrique=classement_perso(pers_continent_Afrique)
        for i in pers_continent_Afrique:
            for e in liste_couleur:
                if e==i[0]:
                    fenetre.blit(liste_couleur[e], (590+pos,351+pos2))
                    pos+=17
                    pygame.display.flip()
                    if pos==170:
                        pos2+=20
                        pos=0
        pos=0
        pos2=0
        #affiche les bonhommes sur l'Amérique du nord
        pers_continent_Amnord=classement_perso(pers_continent_Amnord)
        for i in pers_continent_Amnord:
            for e in liste_couleur:
                if e==i[0]:
                    fenetre.blit(liste_couleur[e], (185+pos,275+pos2))
                    pos+=17
                    pygame.display.flip()
                    if pos==170:
                        pos2+=20
                        pos=0
        pos=0
        pos2=0
        #affiche les bonhommes sur l'Amérique du sud
        pers_continent_Amsud=classement_perso(pers_continent_Amsud)
        for i in pers_continent_Amsud:
            for e in liste_couleur:
                if e==i[0]:
                    fenetre.blit(liste_couleur[e], (350+pos,480+pos2))
                    pos+=17
                    pygame.display.flip()
                    if pos==170:
                        pos2+=20
                        pos=0
        pygame.display.flip()



    if k!=1:
#mise à niveaux en fonction du nombre de parties jouees
        for i in range(0,len(pers_continent_Asie)):
            pers_continent_Asie[i][2]=pers_continent_Asie[i][2]/455 #nb de parties jouees en asie

        for i in range(0,len(pers_continent_Afrique)):
            pers_continent_Afrique[i][2]=pers_continent_Afrique[i][2]/120

        for i in range(0,len(pers_continent_Europe)):
            pers_continent_Europe[i][2]=pers_continent_Europe[i][2]/75

        for i in range(0,len(pers_continent_Amsud)):
            pers_continent_Amsud[i][2]=pers_continent_Amsud[i][2]/30

        for i in range(0,len(pers_continent_Amnord)):
            pers_continent_Amnord[i][2]=pers_continent_Amnord[i][2]/37

        for i in range(0,len(pers_continent_Oceanie)):
            pers_continent_Oceanie[i][2]=pers_continent_Oceanie[i][2]/7

    for event in pygame.event.get():
        if event.type==QUIT or event.type==KEYDOWN and event.key==K_ESCAPE:
            k=1
    if k!=1:
#supression des x% pauvre et duplication des riches
        pers_continent_Asie=Maj_pop(pers_continent_Asie,pourc_disparition)
        pers_continent_Afrique=Maj_pop(pers_continent_Afrique,pourc_disparition)
        pers_continent_Europe=Maj_pop(pers_continent_Europe,pourc_disparition)
        pers_continent_Amsud=Maj_pop(pers_continent_Amsud,pourc_disparition)
        pers_continent_Amnord=Maj_pop(pers_continent_Amnord,pourc_disparition)
        pers_continent_Oceanie=Maj_pop(pers_continent_Oceanie,pourc_disparition)
    if k!=1:
#migrations
        nb_mec_parte=0
        pers_continent_Europe_temp=[]
        pers_continent_Asie_temp=[]
        pers_continent_Amnord_temp=[]
        pers_continent_Oceanie_temp=[]


        for i in ech_continent["Afrique"]:
            nb_mec_parte+=ech_continent["Afrique"][i]
        list_comp=crea_list_comptage_echan("Afrique")
        for e in pers_continent_Afrique:
            if e[2] in classement_de_liste(pers_continent_Afrique)[len(pers_continent_Afrique)-nb_mec_parte+1
                                                            :len(pers_continent_Afrique)]:
                pers_continent_Afrique.remove(e)
                if list_comp[0]!=0:
                    pers_continent_Europe_temp.append(e)
                    list_comp[0]-=1
                else:
                    pers_continent_Asie_temp.append(e)
        nb_mec_parte=0


        for i in ech_continent["Amérique du Sud"]:
            nb_mec_parte+=ech_continent["Amérique du Sud"][i]
        list_comp=crea_list_comptage_echan("Amérique du Sud")
        for e in pers_continent_Amsud:
            if e[2] in classement_de_liste(pers_continent_Amsud)[len(pers_continent_Amsud)-nb_mec_parte+1
                                                               :len(pers_continent_Amsud)]:
                pers_continent_Amsud.remove(e)
                if list_comp[0]!=0:
                    pers_continent_Asie_temp.append(e)
                    list_comp[0]-=1
                else:
                    pers_continent_Amnord_temp.append(e)
        nb_mec_parte=0

        for i in ech_continent["Europe"]:
            nb_mec_parte+=ech_continent["Europe"][i]
        for e in pers_continent_Europe:
            if e[2] in classement_de_liste(pers_continent_Europe)[len(pers_continent_Europe)-nb_mec_parte+1
                                                               :len(pers_continent_Europe)]:
                pers_continent_Europe.remove(e)
                pers_continent_Amnord_temp.append(e)

        nb_mec_parte=0

        for i in ech_continent["Asie"]:
            nb_mec_parte+=ech_continent["Asie"][i]
        list_comp=crea_list_comptage_echan("Asie")
        for e in pers_continent_Asie:
            if e[2] in classement_de_liste(pers_continent_Asie)[len(pers_continent_Asie)-nb_mec_parte+1
                                                               :len(pers_continent_Asie)]:
                pers_continent_Asie.remove(e)
                if list_comp[0]!=0:
                    pers_continent_Amnord_temp.append(e)
                    list_comp[0]-=1
                if list_comp[1]!=0:
                    pers_continent_Europe_temp.append(e)
                    list_comp[1]-=1
                else:
                    pers_continent_Oceanie.append(e)

        nb_mec_parte=0

        for i in ech_continent["Océanie"]:
            nb_mec_parte+=ech_continent["Océanie"][i]
        for e in pers_continent_Oceanie:
            if e[2] in classement_de_liste(pers_continent_Oceanie)[len(pers_continent_Oceanie)-nb_mec_parte+1
                                                               :len(pers_continent_Oceanie)]:
                pers_continent_Oceanie.remove(e)
                pers_continent_Europe_temp.append(e)
        nb_mec_parte=0

        pers_continent_Europe=ajout_temp(pers_continent_Europe,pers_continent_Europe_temp)
        pers_continent_Asie=ajout_temp(pers_continent_Asie,pers_continent_Asie_temp)
        pers_continent_Amnord=ajout_temp(pers_continent_Amnord,pers_continent_Amnord_temp)
        pers_continent_Oceanie=ajout_temp(pers_continent_Oceanie,pers_continent_Oceanie_temp)

#copie les listes temporaires pour les remplacer par les vraies

        pers_continent_Europe=equili_fin("Europe", pers_continent_Europe,nb_pers_cont)
        pers_continent_Oceanie=equili_fin("Océanie", pers_continent_Oceanie,nb_pers_cont)
        pers_continent_Asie=equili_fin("Asie", pers_continent_Asie,nb_pers_cont)
        pers_continent_Amnord=equili_fin("Amérique du Nord", pers_continent_Amnord,nb_pers_cont)
        pers_continent_Amsud=equili_fin("Amérique du Sud", pers_continent_Amsud,nb_pers_cont)
        pers_continent_Afrique=equili_fin("Afrique", pers_continent_Afrique,nb_pers_cont)
#compte le nombre de personne de chaque type par continents
        tete_eu=compte_pers(pers_continent_Europe)
        tete_oc=compte_pers(pers_continent_Oceanie)
        tete_as=compte_pers(pers_continent_Asie)
        tete_an=compte_pers(pers_continent_Amnord)
        tete_asu=compte_pers(pers_continent_Amsud)
        tete_af=compte_pers(pers_continent_Afrique)
#compte le nombre de personne de chaque type dans le monde
        tot=compte_tot(tete_eu,tete_oc,tete_as,tete_an,tete_asu,tete_af)

    for event in pygame.event.get():
        if event.type==QUIT or event.type==KEYDOWN and event.key==K_ESCAPE:
            k=1
#affiche le tableau final
quitter=True
while quitter:
    for event in pygame.event.get():
        if event.type==QUIT or event.type==KEYDOWN and event.key==K_ESCAPE:
            quitter=False
    myfont = pygame.font.SysFont("monospace", 42)
    fenetre.blit(fin, (0,0))
    affichf_manche = myfont.render(str(nb_tour), 1, (255,255,255))
    # on affiche chaque chiffre en face des petites têtes
    fenetre.blit(affichf_manche, (1052, 86))
    x=286
    y=300
    for e in liste_ordre:
        affichf_nb = myfont.render(str(tot[e]), 1, (255,255,255))
        fenetre.blit(affichf_nb, (x, y))
        y+=65
    x+=180
    y=300
    for e in liste_ordre:
        affichf_nb = myfont.render(str(tete_an[e]), 1, (255,255,255))
        fenetre.blit(affichf_nb, (x, y))
        y+=65
    x+=180
    y=300
    for e in liste_ordre:
        affichf_nb = myfont.render(str(tete_asu[e]), 1, (255,255,255))
        fenetre.blit(affichf_nb, (x, y))
        y+=65
    x+=150
    y=300
    for e in liste_ordre:
        affichf_nb = myfont.render(str(tete_af[e]), 1, (255,255,255))
        fenetre.blit(affichf_nb, (x, y))
        y+=65
    x+=140
    y=300
    for e in liste_ordre:
        affichf_nb = myfont.render(str(tete_oc[e]), 1, (255,255,255))
        fenetre.blit(affichf_nb, (x, y))
        y+=65
    x+=130
    y=300
    for e in liste_ordre:
        affichf_nb = myfont.render(str(tete_eu[e]), 1, (255,255,255))
        fenetre.blit(affichf_nb, (x, y))
        y+=65
    x+=120
    y=300
    for e in liste_ordre:
        affichf_nb = myfont.render(str(tete_as[e]), 1, (255,255,255))
        fenetre.blit(affichf_nb, (x, y))
        y+=65

    pygame.display.flip()

fenetre.blit(fin, (0,0))
pygame.display.flip()
pygame.quit()


# on écrit dans le fichier
mon_fichier = open("fichier.txt", "a")
mon_fichier.write(str(nb_manche)+" manches | ")
mon_fichier.write(str(pourc_disparition)+"% | ")
mon_fichier.write(str(a)+" "+str(b)+" "+str(c)+" "+str(d)+" | ")
for e in tot:
    mon_fichier.write(str(e)+" : "+str(tot[e])+" | ")
mon_fichier.write("en "+str(nb_tour)+" tours")
mon_fichier.write("\n")
mon_fichier.write("Europe : ")
for i in tete_eu:
    mon_fichier.write(str(i)+" : "+str(tete_eu[i])+" | ")
mon_fichier.write("\n")
mon_fichier.write("oceanie : ")
for i in tete_oc:
    mon_fichier.write(str(i)+" : "+str(tete_oc[i])+" | ")
mon_fichier.write("\n")
mon_fichier.write("asie : ")
for i in tete_as:
    mon_fichier.write(str(i)+" : "+str(tete_as[i])+" | ")
mon_fichier.write("\n")
mon_fichier.write("Amnord : ")
for i in tete_an:
    mon_fichier.write(str(i)+" : "+str(tete_an[i])+" | ")
mon_fichier.write("\n")
mon_fichier.write("Amsud : ")
for i in tete_asu:
    mon_fichier.write(str(i)+" : "+str(tete_asu[i])+" | ")
mon_fichier.write("\n")
mon_fichier.write("afrique : ")
for i in tete_af:
    mon_fichier.write(str(i)+" : "+str(tete_af[i])+" | ")
mon_fichier.write("\n")
mon_fichier.write("\n")
mon_fichier.close()
