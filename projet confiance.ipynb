{
 "cells": [
  {
   "cell_type": "code",
   "execution_count": 8,
   "metadata": {},
   "outputs": [
    {
     "name": "stdout",
     "output_type": "stream",
     "text": [
      "[['Copieur', 'joue', 8980], ['Copieur', 'joue', 8980], ['Copieur', 'joue', 8980], ['Copieur', 'joue', 8980], ['Copieur', 'joue', 8980], ['Copieur', 'joue', 8980], ['Copieur', 'joue', 8980], ['Copieur', 'joue', 8980], ['Copieur', 'joue', 8980], ['Copieur', 'joue', 8980], ['Copieur', 'joue', 8980], ['Copieur', 'joue', 8980], ['Copieur', 'joue', 8980], ['Copieur', 'joue', 8980], ['Copieur', 'joue', 8980], ['Copieur', 'joue', 8980], ['Copieur', 'joue', 8980], ['Copieur', 'joue', 8980], ['Copieur', 'joue', 8980], ['Copieur', 'joue', 8980], ['Copieur', 'joue', 8980], ['Copieur', 'joue', 8980], ['Copieur', 'joue', 8980], ['Copieur', 'joue', 8980], ['Copieur', 'joue', 8980], ['Copieur', 'joue', 8980], ['Copieur', 'joue', 8980], ['Copieur', 'joue', 8980], ['Copieur', 'joue', 8980], ['Copieur', 'joue', 8980], ['Copieur', 'joue', 8980], ['Copieur', 'joue', 8980], ['Copieur', 'joue', 8980], ['Copieur', 'joue', 8980], ['Copieur', 'joue', 8980], ['Copieur', 'joue', 8980], ['Copieur', 'joue', 8980], ['Copieur', 'joue', 8980], ['Copieur', 'joue', 8980], ['Copieur', 'joue', 8980], ['Copieur', 'joue', 8980], ['Copieur', 'joue', 8980], ['Copieur', 'joue', 8980], ['Copieur', 'joue', 8980], ['Copieur', 'joue', 8980], ['Copieur', 'joue', 8980], ['Copieur', 'joue', 8980], ['Copieur', 'joue', 8980], ['Copieur', 'joue', 8980], ['Copieur', 'joue', 8980], ['Copieur', 'joue', 8980], ['Copieur', 'joue', 8980], ['Copieur', 'joue', 8980], ['Copieur', 'joue', 8980], ['Copieur', 'joue', 8980], ['Copieur', 'joue', 8980], ['Copieur', 'joue', 8980], ['Copieur', 'joue', 8980], ['Copieur', 'joue', 8980], ['Copieur', 'joue', 8980], ['Copieur', 'joue', 8980], ['Copieur', 'joue', 8980], ['Copieur', 'joue', 8980], ['Copieur', 'joue', 8980], ['Copieur', 'joue', 8980], ['Copieur', 'joue', 8980], ['Copieur', 'joue', 8980], ['Copieur', 'joue', 8980], ['Copieur', 'joue', 8980], ['Copieur', 'joue', 8980], ['Copieur', 'joue', 8980], ['Copieur', 'joue', 8980], ['Copieur', 'joue', 8980], ['Copieur', 'joue', 8980], ['Copieur', 'joue', 8980], ['Copieur', 'joue', 8980], ['Copieur', 'joue', 8980], ['Copieur', 'joue', 8980], ['Copieur', 'joue', 8980], ['Copieur', 'joue', 8980], ['Copieur', 'joue', 8980], ['Copieur', 'joue', 8980], ['Copieur', 'joue', 8980], ['Copieur', 'joue', 8980], ['Copieur', 'joue', 8980], ['Copieur', 'joue', 8980], ['Copieur', 'joue', 8980], ['Copieur', 'joue', 8980], ['Copieur', 'joue', 8980], ['Copieur', 'joue', 8980], ['Copieur', 'joue', 8980], ['Copieur', 'joue', 8980], ['Copieur', 'joue', 8980], ['Copieur', 'joue', 8980], ['Copieur', 'joue', 8980], ['Copieur', 'joue', 8980], ['Copieur', 'joue', 8980], ['Copieur', 'joue', 8980], ['Copieur', 'joue', 8980], ['Copieur', 'joue', 8980], ['Copieur', 'joue', 8980], ['Copieur', 'joue', 8980], ['Copieur', 'joue', 8980], ['Copieur', 'joue', 8980], ['Copieur', 'joue', 8980], ['Copieur', 'joue', 8980], ['Copieur', 'joue', 8980], ['Copieur', 'joue', 8980], ['Copieur', 'joue', 8980], ['Copieur', 'joue', 8980], ['Copieur', 'joue', 8980], ['Copieur', 'joue', 8980], ['Copieur', 'joue', 8980], ['Copieur', 'joue', 8980], ['Copieur', 'joue', 8980], ['Copieur', 'joue', 8980], ['Copieur', 'joue', 8980], ['Copieur', 'joue', 8980], ['Copieur', 'joue', 8980], ['Copieur', 'joue', 8980], ['Copieur', 'joue', 8980], ['Copieur', 'joue', 8980], ['Copieur', 'joue', 8980], ['Copieur', 'joue', 8980], ['Copieur', 'joue', 8980], ['Copieur', 'joue', 8980], ['Copieur', 'joue', 8980], ['Copieur', 'joue', 8980], ['Copieur', 'joue', 8980], ['Copieur', 'joue', 8980], ['Copieur', 'joue', 8980], ['Copieur', 'joue', 8980], ['Copieur', 'joue', 8980], ['Copieur', 'joue', 8980], ['Copieur', 'joue', 8980], ['Copieur', 'joue', 8980], ['Copieur', 'joue', 8980], ['Copieur', 'joue', 8980], ['Copieur', 'joue', 8980], ['Copieur', 'joue', 8980], ['Copieur', 'joue', 8980], ['Copieur', 'joue', 8980], ['Copieur', 'joue', 8980], ['Copieur', 'joue', 8980], ['Copieur', 'joue', 8980], ['Copieur', 'joue', 8980], ['Copieur', 'joue', 8980], ['Copieur', 'joue', 8980], ['Copieur', 'joue', 8980], ['Copieur', 'joue', 8980], ['Copieur', 'joue', 8980], ['Copieur', 'joue', 8980], ['Copieur', 'joue', 8980], ['Copieur', 'joue', 8980], ['Copieur', 'joue', 8980], ['Copieur', 'joue', 8980], ['Copieur', 'joue', 8980], ['Copieur', 'joue', 8980], ['Copieur', 'joue', 8980], ['Copieur', 'joue', 8980], ['Copieur', 'joue', 8980], ['Copieur', 'joue', 8980], ['Copieur', 'joue', 8980], ['Copieur', 'joue', 8980], ['Copieur', 'joue', 8980], ['Copieur', 'joue', 8980], ['Copieur', 'joue', 8980], ['Copieur', 'joue', 8980], ['Copieur', 'joue', 8980], ['Copieur', 'joue', 8980], ['Copieur', 'joue', 8980], ['Copieur', 'joue', 8980], ['Copieur', 'joue', 8980], ['Copieur', 'joue', 8980], ['Copieur', 'joue', 8980], ['Copieur', 'joue', 8980], ['Copieur', 'joue', 8980], ['Copieur', 'joue', 8980], ['Copieur', 'joue', 8980], ['Copieur', 'joue', 8980], ['Copieur', 'joue', 8980], ['Copieur', 'joue', 8980], ['Copieur', 'joue', 8980], ['Copieur', 'joue', 8980], ['Copieur', 'joue', 8980], ['Copieur', 'joue', 8980], ['Copieur', 'joue', 8980], ['Copieur', 'joue', 8980], ['Copieur', 'joue', 8980], ['Copieur', 'joue', 8980], ['Copieur', 'joue', 8980], ['Copieur', 'joue', 8980], ['Copieur', 'joue', 8980], ['Copieur', 'joue', 8980], ['Copieur', 'joue', 8980], ['Copieur', 'joue', 8980], ['Copieur', 'joue', 8980], ['Copieur', 'joue', 8980], ['Copieur', 'joue', 8980], ['Copieur', 'joue', 8980], ['Copieur', 'joue', 8980], ['Copieur', 'joue', 8980], ['Copieur', 'joue', 8980], ['Copieur', 'joue', 8980], ['Copieur', 'joue', 8980], ['Copieur', 'joue', 8980], ['Copieur', 'joue', 8980], ['Copieur', 'joue', 8980], ['Copieur', 'joue', 8980], ['Copieur', 'joue', 8980], ['Copieur', 'joue', 8980], ['Copieur', 'joue', 8980], ['Copieur', 'joue', 8980], ['Copieur', 'joue', 8980], ['Copieur', 'joue', 8980], ['Copieur', 'joue', 8980], ['Copieur', 'joue', 8980], ['Copieur', 'joue', 8980], ['Copieur', 'joue', 8980], ['Copieur', 'joue', 8980], ['Copieur', 'joue', 8980], ['Copieur', 'joue', 8980], ['Copieur', 'joue', 8980], ['Copieur', 'joue', 8980], ['Copieur', 'joue', 8980], ['Copieur', 'joue', 8980], ['Copieur', 'joue', 8980], ['Copieur', 'joue', 8980], ['Copieur', 'joue', 8980], ['Copieur', 'joue', 8980], ['Copieur', 'joue', 8980], ['Copieur', 'joue', 8980], ['Copieur', 'joue', 8980], ['Copieur', 'joue', 8980], ['Copieur', 'joue', 8980], ['Copieur', 'joue', 8980], ['Copieur', 'joue', 8980], ['Copieur', 'joue', 8980], ['Copieur', 'joue', 8980], ['Copieur', 'joue', 8980], ['Copieur', 'joue', 8980], ['Copieur', 'joue', 8980], ['Copieur', 'joue', 8980], ['Copieur', 'joue', 8980], ['Copieur', 'joue', 8980], ['Copieur', 'joue', 8980], ['Copieur', 'joue', 8980], ['Copieur', 'joue', 8980], ['Copieur', 'joue', 8980], ['Copieur', 'joue', 8980], ['Copieur', 'joue', 8980], ['Copieur', 'joue', 8980], ['Copieur', 'joue', 8980], ['Copieur', 'joue', 8980], ['Copieur', 'joue', 8980], ['Copieur', 'joue', 8980], ['Copieur', 'joue', 8980], ['Copieur', 'joue', 8980], ['Copieur', 'joue', 8980], ['Copieur', 'joue', 8980], ['Copieur', 'joue', 8980], ['Copieur', 'joue', 8980], ['Copieur', 'joue', 8980], ['Copieur', 'joue', 8980], ['Copieur', 'joue', 8980], ['Copieur', 'joue', 8980], ['Copieur', 'joue', 8980], ['Copieur', 'joue', 8980], ['Copieur', 'joue', 8980], ['Copieur', 'joue', 8980], ['Copieur', 'joue', 8980], ['Copieur', 'joue', 8980], ['Copieur', 'joue', 8980], ['Copieur', 'joue', 8980], ['Copieur', 'joue', 8980], ['Copieur', 'joue', 8980], ['Copieur', 'joue', 8980], ['Copieur', 'joue', 8980], ['Copieur', 'joue', 8980], ['Copieur', 'joue', 8980], ['Copieur', 'joue', 8980], ['Copieur', 'joue', 8980], ['Copieur', 'joue', 8980], ['Copieur', 'joue', 8980], ['Copieur', 'joue', 8980], ['Copieur', 'joue', 8980], ['Copieur', 'joue', 8980], ['Copieur', 'joue', 8980], ['Copieur', 'joue', 8980], ['Copieur', 'joue', 8980], ['Copieur', 'joue', 8980], ['Copieur', 'joue', 8980], ['Copieur', 'joue', 8980], ['Copieur', 'joue', 8980], ['Copieur', 'joue', 8980], ['Copieur', 'joue', 8980], ['Copieur', 'joue', 8980], ['Copieur', 'joue', 8980], ['Copieur', 'joue', 8980], ['Copieur', 'joue', 8980], ['Copieur', 'joue', 8980], ['Copieur', 'joue', 8980], ['Copieur', 'joue', 8980], ['Copieur', 'joue', 8980], ['Copieur', 'joue', 8980], ['Copieur', 'joue', 8980], ['Copieur', 'joue', 8980], ['Copieur', 'joue', 8980], ['Copieur', 'joue', 8980], ['Copieur', 'joue', 8980], ['Copieur', 'joue', 8980], ['Copieur', 'joue', 8980], ['Copieur', 'joue', 8980], ['Copieur', 'joue', 8980], ['Copieur', 'joue', 8980], ['Copieur', 'joue', 8980], ['Copieur', 'joue', 8980], ['Copieur', 'joue', 8980], ['Copieur', 'joue', 8980], ['Copieur', 'joue', 8980], ['Copieur', 'joue', 8980], ['Copieur', 'joue', 8980], ['Copieur', 'joue', 8980], ['Copieur', 'joue', 8980], ['Copieur', 'joue', 8980], ['Copieur', 'joue', 8980], ['Copieur', 'joue', 8980], ['Copieur', 'joue', 8980], ['Copieur', 'joue', 8980], ['Copieur', 'joue', 8980], ['Copieur', 'joue', 8980], ['Copieur', 'joue', 8980], ['Copieur', 'joue', 8980], ['Copieur', 'joue', 8980], ['Copieur', 'joue', 8980], ['Copieur', 'joue', 8980], ['Copieur', 'joue', 8980], ['Copieur', 'joue', 8980], ['Copieur', 'joue', 8980], ['Copieur', 'joue', 8980], ['Copieur', 'joue', 8980], ['Copieur', 'joue', 8980], ['Copieur', 'joue', 8980], ['Copieur', 'joue', 8980], ['Copieur', 'joue', 8980], ['Copieur', 'joue', 8980], ['Copieur', 'joue', 8980], ['Copieur', 'joue', 8980], ['Copieur', 'joue', 8980], ['Copieur', 'joue', 8980], ['Copieur', 'joue', 8980], ['Copieur', 'joue', 8980], ['Copieur', 'joue', 8980], ['Copieur', 'joue', 8980], ['Copieur', 'joue', 8980], ['Copieur', 'joue', 8980], ['Copieur', 'joue', 8980], ['Copieur', 'joue', 8980], ['Copieur', 'joue', 8980], ['Copieur', 'joue', 8980], ['Copieur', 'joue', 8980], ['Copieur', 'joue', 8980], ['Copieur', 'joue', 8980], ['Copieur', 'joue', 8980], ['Copieur', 'joue', 8980], ['Copieur', 'joue', 8980], ['Copieur', 'joue', 8980], ['Copieur', 'joue', 8980], ['Copieur', 'joue', 8980], ['Copieur', 'joue', 8980], ['Copieur', 'joue', 8980], ['Copieur', 'joue', 8980], ['Copieur', 'joue', 8980], ['Copieur', 'joue', 8980], ['Copieur', 'joue', 8980], ['Copieur', 'joue', 8980], ['Copieur', 'joue', 8980], ['Copieur', 'joue', 8980], ['Copieur', 'joue', 8980], ['Copieur', 'joue', 8980], ['Copieur', 'joue', 8980], ['Copieur', 'joue', 8980], ['Copieur', 'joue', 8980], ['Copieur', 'joue', 8980], ['Copieur', 'joue', 8980], ['Copieur', 'joue', 8980], ['Copieur', 'joue', 8980], ['Copieur', 'joue', 8980], ['Copieur', 'joue', 8980], ['Copieur', 'joue', 8980], ['Copieur', 'joue', 8980], ['Copieur', 'joue', 8980], ['Copieur', 'joue', 8980], ['Copieur', 'joue', 8980], ['Copieur', 'joue', 8980], ['Copieur', 'joue', 8980], ['Copieur', 'joue', 8980], ['Copieur', 'joue', 8980], ['Copieur', 'joue', 8980], ['Copieur', 'joue', 8980], ['Copieur', 'joue', 8980], ['Copieur', 'joue', 8980], ['Copieur', 'joue', 8980], ['Copieur', 'joue', 8980], ['Copieur', 'joue', 8980], ['Copieur', 'joue', 8980], ['Copieur', 'joue', 8980], ['Copieur', 'joue', 8980], ['Copieur', 'joue', 8980], ['Copieur', 'joue', 8980], ['Copieur', 'joue', 8980], ['Copieur', 'joue', 8980], ['Copieur', 'joue', 8980], ['Copieur', 'joue', 8980], ['Copieur', 'joue', 8980], ['Copieur', 'joue', 8980], ['Copieur', 'joue', 8980], ['Copieur', 'joue', 8980], ['Copieur', 'joue', 8980], ['Copieur', 'joue', 8980], ['Copieur', 'joue', 8980], ['Copieur', 'joue', 8980], ['Copieur', 'joue', 8980], ['Copieur', 'joue', 8980], ['Copieur', 'joue', 8980], ['Copieur', 'joue', 8980], ['Copieur', 'joue', 8980], ['Copieur', 'joue', 8980], ['Copieur', 'joue', 8980], ['Copieur', 'joue', 8980], ['Copieur', 'joue', 8980], ['Copieur', 'joue', 8980], ['Copieur', 'joue', 8980], ['Copieur', 'joue', 8980], ['Copieur', 'joue', 8980], ['Copieur', 'joue', 8980], ['Copieur', 'joue', 8980], ['Copieur', 'joue', 8980], ['Copieur', 'joue', 8980], ['Copieur', 'joue', 8980], ['Copieur', 'joue', 8980], ['Copieur', 'joue', 8980], ['Copieur', 'joue', 8980], ['Copieur', 'joue', 8980], ['Copieur', 'joue', 8980], ['Copieur', 'joue', 8980], ['Copieur', 'joue', 8980], ['Copieur', 'joue', 8980], ['Copieur', 'joue', 8980], ['Copieur', 'joue', 8980]]\n"
     ]
    }
   ],
   "source": [
    "import random\n",
    "\n",
    "#------variables--------\n",
    "\n",
    "argent=0\n",
    "joueurs={\"Copieur\":\"joue\",\n",
    "        \"Radin\":\"joue\",\n",
    "        \"Mefiant\":\"triche\",\n",
    "        \"Tricheur\":\"triche\",\n",
    "        \"Cooperatif\":\"joue\",\n",
    "        \"Random\":\"joue\",\n",
    "        \"Alterant\":\"joue\"}\n",
    "\n",
    "\n",
    "\n",
    "ech_continent={\"Afrique\":{\"Europe\":1,\"Amérique du Nord\":0,\"Asie\":1,\"Océanie\":0,\"Amérique du Sud\":0,\"Groenland\":0},\n",
    "               \"Amérique du Nord\":{\"Europe\":0,\"Afrique\":0,\"Asie\":0,\"Océanie\":0,\"Amérique du Sud\":0,\"Groenland\":0},\n",
    "               \"Amérique du Sud\":{\"Europe\":0,\"Afrique\":0,\"Asie\":1,\"Océanie\":0,\"Amérique du Nord\":1,\"Groenland\":0},\n",
    "               \"Europe\":{\"Amérique du Nord\":1,\"Afrique\":0,\"Asie\":0,\"Océanie\":0,\"Amérique du Sud\":0,\"Groenland\":0},\n",
    "               \"Asie\":{\"Amérique du Nord\":1,\"Afrique\":0,\"Europe\":1,\"Océanie\":1,\"Amérique du Sud\":0,\"Groenland\":0},\n",
    "               \"Océanie\":{\"Amérique du Nord\":0,\"Afrique\":0,\"Europe\":1,\"Asie\":0,\"Amérique du Sud\":0,\"Groenland\":0},\n",
    "               \"Groenland\":{\"Amérique du Nord\":0,\"Afrique\":0,\"Europe\":0,\"Asie\":0,\"Amérique du Sud\":0,\"Océanie\":0} }\n",
    "\n",
    "a,b,c,d=2,-1,3,0\n",
    "gain=[a,b,c,d]\n",
    "nb_manche=10\n",
    "pers_continent=[]\n",
    "nb_pers_cont=3\n",
    "\n",
    "\n",
    "#-------fonctions----------\n",
    "\n",
    "#fait le déroulement d'une partie entre 2 joueurs\n",
    "def partie(j1,j2,gain):\n",
    "    if j1[1]==j2[1]: #si les 2 joueursveulent faire la meme chose\n",
    "        if j1[1]==\"joue\": #s'ils veulent coopérer\n",
    "            j1[2]+=gain[0]\n",
    "            j2[2]+=gain[0]\n",
    "        else : #sinon ils trichent tous les 2\n",
    "            j1[2]+=gain[3]\n",
    "            j2[2]+=gain[3]\n",
    "    else: #soit ils ne veulent pas faire la meme chose\n",
    "        if j1[1]==\"joue\":\n",
    "            j1[2]+=gain[1]\n",
    "            j2[2]+=gain[2]\n",
    "        else:\n",
    "            j1[2]+=gain[2]\n",
    "            j2[2]+=gain[1]\n",
    "    j2temp=j2[:]\n",
    "#si j1 triche\n",
    "    if j1[1]==\"triche\":\n",
    "#si c'est un C ou un M il copie j1\n",
    "        if j2[0]==\"Copieur\" or j2[0]==\"Mefiant\":\n",
    "            j2temp[1]=\"triche\"\n",
    "#si c'est un R il triche\n",
    "        if j2[0]==\"Radin\":\n",
    "            j2temp[1]=\"triche\"\n",
    "#si j1 joue\n",
    "    elif j1[1]==\"joue\":\n",
    "#si c'est un C ou un M il copie j1\n",
    "        if j2[0]==\"Copieur\" or j2[0]==\"Mefiant\":\n",
    "            j2temp[1]=\"joue\"\n",
    "\n",
    "\n",
    "\n",
    "    if j1[0]==\"Alternant\":\n",
    "        if j1[1]==\"joue\":\n",
    "            j1[1]=\"triche\"\n",
    "        else:\n",
    "            j1[1]=\"joue\"\n",
    "\n",
    "    if j2[1]==\"triche\":\n",
    "        if j1[0]==\"Copieur\" or j1[0]==\"Mefiant\":\n",
    "            j1[1]=\"triche\"\n",
    "        if j1[0]==\"Radin\":\n",
    "            j1[1]=\"triche\"\n",
    "    elif j2[1]==\"joue\":\n",
    "        if j1[0]==\"Copieur\" or j1[0]==\"Mefiant\":\n",
    "            j1[1]=\"joue\"\n",
    "\n",
    "    if j2temp[0]==\"Alternant\":\n",
    "        if j2temp[1]==\"triche\":\n",
    "            j2temp[1]=\"joue\"\n",
    "        else:\n",
    "            j2temp[1]=\"triche\"\n",
    "\n",
    "    if j1[0]==\"Random\":\n",
    "        valalea=random.randrange(0,2)\n",
    "        if valalea==1:\n",
    "            j1[1]=\"joue\"\n",
    "        else:\n",
    "            j1[1]=\"triche\"\n",
    "    if j2[0]==\"Random\":\n",
    "        valalea=random.randrange(0,2)\n",
    "        if valalea==1:\n",
    "            j2temp[1]=\"joue\"\n",
    "        else:\n",
    "            j2temp[1]=\"triche\"\n",
    "\n",
    "\n",
    "    j2=j2temp\n",
    "    return j1,j2\n",
    "\n",
    "\n",
    "def creation_continent(nb_pers_cont, joueurs, pers_continent):\n",
    "    for i in range(0,nb_pers_cont):\n",
    "        type=input(\"Type\")\n",
    "        pers_continent.append([type,joueurs[type],argent])\n",
    "    return pers_continent\n",
    "\n",
    "\n",
    "\n",
    "\n",
    "\n",
    "#fait chaque match entre le nombre de personne sur un continent\n",
    "def continent(nb_manche,pers_continent,gain):\n",
    "    for e in range(0,len(pers_continent)):\n",
    "        for j in range(e+1,len(pers_continent)):\n",
    "            for i in range (0,nb_manche):\n",
    "                pers_continent[e],pers_continent[j]=partie(pers_continent[e],pers_continent[j],gain)\n",
    "    return pers_continent\n",
    "\n",
    "#-------programme---------\n",
    "\n",
    "\"\"\"print (j1,j2)\n",
    "for i in range (0,10):\n",
    "    j1,j2=partie(j1,j2,gain)\n",
    "    print(j1,j2)\"\"\"\n",
    "for i in range (0,450):\n",
    "    pers_continent.append([\"Copieur\",\"joue\",0])\n",
    "print(continent(nb_manche,pers_continent,gain))\n",
    "\n",
    "#def échange_continent(ech_continent):\n",
    "#    for i in ech_continent:\n",
    "        \n",
    "    "
   ]
  },
  {
   "cell_type": "code",
   "execution_count": null,
   "metadata": {},
   "outputs": [],
   "source": []
  },
  {
   "cell_type": "code",
   "execution_count": null,
   "metadata": {},
   "outputs": [],
   "source": []
  }
 ],
 "metadata": {
  "kernelspec": {
   "display_name": "Python 3",
   "language": "python",
   "name": "python3"
  },
  "language_info": {
   "codemirror_mode": {
    "name": "ipython",
    "version": 3
   },
   "file_extension": ".py",
   "mimetype": "text/x-python",
   "name": "python",
   "nbconvert_exporter": "python",
   "pygments_lexer": "ipython3",
   "version": "3.5.3"
  }
 },
 "nbformat": 4,
 "nbformat_minor": 2
}
import random

#------variables--------

argent=0
joueurs={"Copieur":"joue",
        "Radin":"joue",
        "Mefiant":"triche",
        "Tricheur":"triche",
        "Cooperatif":"joue",
        "Random":"joue",
        "Alternant":"joue"}



"""ech_continent={"Afrique":{"Europe":0.08,"Amérique du Nord":0,"Asie":0.03,"Océanie":0,"Amérique du Sud":0,"Groenland":0},
               "Amérique du Nord":{"Europe":0,"Afrique":0,"Asie":0,"Océanie":0,"Amérique du Sud":0,"Groenland":0},
               "Amérique du Sud":{"Europe":0,"Afrique":0,"Asie":1,"Océanie":0,"Amérique du Nord":1,"Groenland":0},
               "Europe":{"Amérique du Nord":1,"Afrique":0,"Asie":0,"Océanie":0,"Amérique du Sud":0,"Groenland":0},
               "Asie":{"Amérique du Nord":1,"Afrique":0,"Europe":1,"Océanie":1,"Amérique du Sud":0,"Groenland":0},
               "Océanie":{"Amérique du Nord":0,"Afrique":0,"Europe":1,"Asie":0,"Amérique du Sud":0,"Groenland":0},
               "Groenland":{"Amérique du Nord":0,"Afrique":0,"Europe":0,"Asie":0,"Amérique du Sud":0,"Océanie":0} }"""

a,b,c,d=2,-1,3,0
gain=[a,b,c,d]
nb_manche=10
pourc_disparition=0.1
pers_continent_Europe=[]
pers_continent_Asie=[]
pers_continent_Amnord=[]
pers_continent_Amsud=[]
pers_continent_Oceanie=[]
pers_continent_Afrique=[]
Asie = {"Copieur":68,"Radin":46,"Mefiant":137,"Tricheur":68,"Cooperatif":91,"Random":23,"Alternant":23}
Afrique = {"Copieur":30,"Radin":6,"Mefiant":6,"Tricheur":25,"Cooperatif":42,"Random":6,"Alternant":6}
Europe={"Copieur":8,"Radin":15,"Mefiant":22,"Tricheur":15,"Cooperatif":8,"Random":4,"Alternant":4}
Amerique_sud={"Copieur":15,"Radin":9,"Mefiant":6,"Tricheur":12,"Cooperatif":9,"Random":4,"Alternant":6}
Amerique_Nord={"Copieur":4,"Radin":4,"Mefiant":4,"Tricheur":11,"Cooperatif":11,"Random":2,"Alternant":2}
Oceanie={"Copieur":1,"Radin":1,"Mefiant":1,"Tricheur":1,"Cooperatif":2,"Random":1,"Alternant":1}
#-------fonctions----------

#fait le déroulement d'une partie entre 2 joueurs
def partie(j1,j2,gain):
    if j1[1]==j2[1]: #si les 2 joueursveulent faire la meme chose
        if j1[1]=="joue": #s'ils veulent coopérer
            j1[2]+=gain[0]
            j2[2]+=gain[0]
        else : #sinon ils trichent tous les 2
            j1[2]+=gain[3]
            j2[2]+=gain[3]
    else: #soit ils ne veulent pas faire la meme chose
        if j1[1]=="joue":
            j1[2]+=gain[1]
            j2[2]+=gain[2]
        else:
            j1[2]+=gain[2]
            j2[2]+=gain[1]
    j2temp=j2[:]
#si j1 triche
    if j1[1]=="triche":
#si c'est un C ou un M il copie j1
        if j2[0]=="Copieur" or j2[0]=="Mefiant":
            j2temp[1]="triche"
#si c'est un R il triche
        if j2[0]=="Radin":
            j2temp[1]="triche"
#si j1 joue
    elif j1[1]=="joue":
#si c'est un C ou un M il copie j1
        if j2[0]=="Copieur" or j2[0]=="Mefiant":
            j2temp[1]="joue"



    if j1[0]=="Alternant":
        if j1[1]=="joue":
            j1[1]="triche"
        else:
            j1[1]="joue"

    if j2[1]=="triche":
        if j1[0]=="Copieur" or j1[0]=="Mefiant":
            j1[1]="triche"
        if j1[0]=="Radin":
            j1[1]="triche"
    elif j2[1]=="joue":
        if j1[0]=="Copieur" or j1[0]=="Mefiant":
            j1[1]="joue"

    if j2temp[0]=="Alternant":
        if j2temp[1]=="triche":
            j2temp[1]="joue"
        else:
            j2temp[1]="triche"

    if j1[0]=="Random":
        valalea=random.randrange(0,2)
        if valalea==1:
            j1[1]="joue"
        else:
            j1[1]="triche"
    if j2[0]=="Random":
        valalea=random.randrange(0,2)
        if valalea==1:
            j2temp[1]="joue"
        else:
            j2temp[1]="triche"


    j2=j2temp
    return j1,j2


def creation_continent(nb_pers_cont, joueurs, pers_continent,Type):
    for i in range(0,nb_pers_cont):
        pers_continent.append([Type,joueurs[Type],argent])
    return pers_continent





#fait chaque match entre le nombre de personne sur un continent
def continent(nb_manche,pers_continent,gain):
    for e in range(0,len(pers_continent)):
        for j in range(e+1,len(pers_continent)):
            for i in range (0,nb_manche):
                pers_continent[e],pers_continent[j]=partie(pers_continent[e],pers_continent[j],gain)
    return pers_continent

def Maj_pop(pers_continent,pourc_disparition):
    nb_personne=len(pers_continent)
    pourc=int(round(pourc_disparition*nb_personne))
    classement_de_liste(pers_continent)
    for i in pers_continent:
        if i[2] in liste_classement_argent[0:pourc]:
            pers_continent.remove(i)
        if i[2] in liste_classement_argent[len(pers_continent)-pourc+1:len(pers_continent)+1]:
            pers_continent.append(i)
    return pers_continent
        
def classement_de_liste(pers_continent):
    liste_classement_argent=[]
    for e in pers_continent:
        liste_classement_argent.append(e[2])
    liste_classement_argent.sort()
    return liste_classement_argent
        
#-------programme---------


for e in Asie:
    creation_continent(Asie[e], joueurs, pers_continent_Asie, e)
for e in Afrique:
    creation_continent(Afrique[e], joueurs, pers_continent_Afrique, e)
for e in Europe:
    creation_continent(Europe[e], joueurs, pers_continent_Europe, e)
for e in Amerique_sud:
    creation_continent(Amerique_sud[e], joueurs, pers_continent_Amsud, e)
for e in Amerique_Nord:
    creation_continent(Amerique_Nord[e], joueurs, pers_continent_Amnord, e)
for e in Oceanie:
    creation_continent(Oceanie[e], joueurs, pers_continent_Oceanie, e)
    
    
continent(nb_manche,pers_continent_Asie,gain)
continent(nb_manche,pers_continent_Afrique,gain)
continent(nb_manche,pers_continent_Europe,gain)
continent(nb_manche,pers_continent_Amsud,gain)
continent(nb_manche,pers_continent_Amnord,gain)
continent(nb_manche,pers_continent_Oceanie,gain)

Maj_pop(pers_continent_Asie,pourc_disparition)
Maj_pop(pers_continent_Afrique,pourc_disparition)
Maj_pop(pers_continent_Europe,pourc_disparition)
Maj_pop(pers_continent_Amsud,pourc_disparition)
Maj_pop(pers_continent_Amnord,pourc_disparition)
Maj_pop(pers_continent_Oceanie,pourc_disparition)

#nb_mec_parte=0
#for i in ech_continent["Afrique"]:
#    nb_mec_parte+=ech_continent["Afrique"][i]*len(pers_continent_Afrique)
#    for e in pers_continent_Afrique:
#        if e[2] in classement_de_liste(pers_continent_Afrique)[len(pers_continent_Afrique)-nb_mec_parte+1
#                                                               :len(pers_continent_Afrique)]:
#            e
        


