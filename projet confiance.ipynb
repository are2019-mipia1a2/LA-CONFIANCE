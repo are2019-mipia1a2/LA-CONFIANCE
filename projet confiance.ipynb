import random
import pygame
from pygame.locals import*
import time


#initialisation pygame
pygame.init()
fenetre= pygame.display.set_mode((1400,934),RESIZABLE)
fond = pygame.image.load("fond2.png").convert()
perso1 = pygame.image.load("copieur.png").convert_alpha()
perso2 = pygame.image.load("radin.png").convert_alpha()
perso3 = pygame.image.load("mefiant.png").convert_alpha()
perso4 = pygame.image.load("tricheur.png").convert_alpha()
perso5 = pygame.image.load("cooperatif.png").convert_alpha()
perso6 = pygame.image.load("aleatoire.png").convert_alpha()
perso7 = pygame.image.load("alternant.png").convert_alpha()
haut = pygame.image.load("selectioneur.png").convert_alpha()
bas = pygame.image.load("selectioneur2.png").convert_alpha()
#------variables--------
k=0
argent=0
joueurs={"Copieur":"joue",
        "Radin":"joue",
        "Mefiant":"triche",
        "Tricheur":"triche",
        "Cooperatif":"joue",
        "Random":"joue",
        "Alternant":"joue"}

liste_couleur={"Copieur":perso1,
                "Radin":perso2,
                "Mefiant":perso3,
                "Tricheur":perso4,
                "Cooperatif":perso5,
                "Random":perso6,
                "Alternant":perso7}

ech_continent={"Afrique":{"Europe":10,"Asie":4},
               "Amérique du Nord":{},
               "Amérique du Sud":{"Asie":2,"Amérique du Nord":7},
               "Europe":{"Amérique du Nord":2},
               "Asie":{"Amérique du Nord":10,"Europe":10,"Océanie":2},
               "Océanie":{"Europe":1},
               "Groenland":{} }

nb_pers_cont={"Afrique":121,
               "Amérique du Nord":38,
               "Amérique du Sud":61,
               "Europe":76,
               "Asie":456,
               "Océanie":8}



a,b,c,d=2,-1,3,0
gain=[a,b,c,d]
nb_manche=10
pourc_disparition=0.05
pers_continent_Europe=[]
pers_continent_Asie=[]
pers_continent_Amnord=[]
pers_continent_Amsud=[]
pers_continent_Oceanie=[]
pers_continent_Afrique=[]
Asie = {"Copieur":68,"Radin":46,"Mefiant":137,"Tricheur":68,"Cooperatif":91,"Random":23,"Alternant":23}
Afrique = {"Copieur":30,"Radin":6,"Mefiant":6,"Tricheur":25,"Cooperatif":42,"Random":6,"Alternant":6}
Europe={"Copieur":8,"Radin":15,"Mefiant":22,"Tricheur":15,"Cooperatif":8,"Random":4,"Alternant":4}
Amerique_sud={"Copieur":15,"Radin":9,"Mefiant":6,"Tricheur":12,"Cooperatif":9,"Random":4,"Alternant":6}
Amerique_Nord={"Copieur":4,"Radin":4,"Mefiant":4,"Tricheur":11,"Cooperatif":11,"Random":2,"Alternant":2}
Oceanie={"Copieur":1,"Radin":1,"Mefiant":1,"Tricheur":1,"Cooperatif":2,"Random":1,"Alternant":1}
#-------fonctions----------

#-----déroulement interne d'une partie
#fait le déroulement d'une partie entre 2 joueurs
def partie(j1,j2,gain):
    if j1[1]==j2[1]: #si les 2 joueursveulent faire la meme chose
        if j1[1]=="joue": #s'ils veulent coopérer
            j1[2]+=gain[0]
            j2[2]+=gain[0]
        else : #sinon ils trichent tous les 2
            j1[2]+=gain[3]
            j2[2]+=gain[3]
    else: #soit ils ne veulent pas faire la meme chose
        if j1[1]=="joue":
            j1[2]+=gain[1]
            j2[2]+=gain[2]
        else:
            j1[2]+=gain[2]
            j2[2]+=gain[1]
    j2temp=j2[:]
#si j1 triche
    if j1[1]=="triche":
#si c'est un C ou un M il copie j1
        if j2[0]=="Copieur" or j2[0]=="Mefiant":
            j2temp[1]="triche"
#si c'est un R il triche
        if j2[0]=="Radin":
            j2temp[1]="triche"
#si j1 joue
    elif j1[1]=="joue":
#si c'est un C ou un M il copie j1
        if j2[0]=="Copieur" or j2[0]=="Mefiant":
            j2temp[1]="joue"



    if j1[0]=="Alternant":
        if j1[1]=="joue":
            j1[1]="triche"
        else:
            j1[1]="joue"

    if j2[1]=="triche":
        if j1[0]=="Copieur" or j1[0]=="Mefiant":
            j1[1]="triche"
        if j1[0]=="Radin":
            j1[1]="triche"
    elif j2[1]=="joue":
        if j1[0]=="Copieur" or j1[0]=="Mefiant":
            j1[1]="joue"

    if j2temp[0]=="Alternant":
        if j2temp[1]=="triche":
            j2temp[1]="joue"
        else:
            j2temp[1]="triche"

    if j1[0]=="Random":
        valalea=random.randrange(0,2)
        if valalea==1:
            j1[1]="joue"
        else:
            j1[1]="triche"
    if j2[0]=="Random":
        valalea=random.randrange(0,2)
        if valalea==1:
            j2temp[1]="joue"
        else:
            j2temp[1]="triche"


    j2=j2temp
    return j1,j2

def reinitialisation_type(joueur):
    if joueur[0]=="Radin":
        joueur[1]="joue"
    if joueur[0]=="Mefiant":
        joueur[1]="triche"
    if joueur[0]=="Copieur":
        joueur[1]="joue"
    return joueur

#------continents
def creation_continent(nb_pers_cont, joueurs, pers_continent,Type):
    for i in range(0,nb_pers_cont):
        pers_continent.append([Type,joueurs[Type],argent])
    return pers_continent


#fait chaque match entre le nombre de personne sur un continent
def continent(nb_manche,pers_continent,gain):
    for e in range(0,len(pers_continent)):
        for j in range(e+1,len(pers_continent)):
            for i in range (0,nb_manche):
                pers_continent[e],pers_continent[j]=partie(pers_continent[e],pers_continent[j],gain)
            pers_continent[e]=reinitialisation_type(pers_continent[e])
            pers_continent[j]=reinitialisation_type(pers_continent[j])
    return pers_continent

#suprime x% et duplique
def Maj_pop(pers_continent,pourc_disparition):
    nb_personne=len(pers_continent)
    pourc=int(round(pourc_disparition*nb_personne))
    liste_classement_argent=classement_de_liste(pers_continent)
    pers_continenttemp=[]
    pers_continenttemp=pers_continent.copy()
    for i in pers_continent:
        if i[2] in liste_classement_argent[0:pourc]:
            pers_continenttemp.remove(i)
        if i[2] in liste_classement_argent[len(pers_continent)-pourc+1:len(pers_continent)+1]:
            pers_continenttemp.append(i)
    pers_continent=pers_continenttemp
    return pers_continent

#créer une liste croissante des gains
def classement_de_liste(pers_continent):
    liste_classement_argent=[]
    for e in pers_continent:
        liste_classement_argent.append(e[2])
    liste_classement_argent.sort()
    return liste_classement_argent

#creer une liste pour compter
def crea_list_comptage_echan(Continent):
    liste_cree=[]
    for i in ech_continent[Continent]:
        liste_cree.append(ech_continent[Continent][i])
    return liste_cree

def ajout_temp(listcon,listconttemp):
    for i in listconttemp:
        listcon.append(i)
    return listcon




def equili_fin(Continent, pers_continent,nb_pers_cont):
    while len(pers_continent)>nb_pers_cont[Continent]:
        lst_classe=classement_de_liste(pers_continent)
        for i in pers_continent:
            if i[2] == lst_classe[0]:
                pers_continent.remove(i)
    while len(pers_continent)<nb_pers_cont[Continent]:
        valalea=random.randrange(0,len(pers_continent))
        pers_continent.append(pers_continent[valalea])
    return pers_continent
#-------programme---------

#création de la population sur les continents
for e in Asie:
    creation_continent(Asie[e], joueurs, pers_continent_Asie, e)
for e in Afrique:
    creation_continent(Afrique[e], joueurs, pers_continent_Afrique, e)
for e in Europe:
    creation_continent(Europe[e], joueurs, pers_continent_Europe, e)
for e in Amerique_sud:
    creation_continent(Amerique_sud[e], joueurs, pers_continent_Amsud, e)
for e in Amerique_Nord:
    creation_continent(Amerique_Nord[e], joueurs, pers_continent_Amnord, e)
for e in Oceanie:
    creation_continent(Oceanie[e], joueurs, pers_continent_Oceanie, e)

fenetre.blit(fond, (0,0))
pygame.display.flip()
test=True
while k!=1:
    while test:
        myfont = pygame.font.SysFont("monospace", 28)
        score_display = myfont.render(str(nb_manche), 1, (255,255,255))
        affich_pourc = myfont.render(str(pourc_disparition*100)+"%", 1, (255,255,255))
        fenetre.blit(score_display, (63, 490))
        fenetre.blit(affich_pourc, (100, 490))
        fenetre.blit(haut, (50,430))
        fenetre.blit(bas, (50,530))
        pygame.display.flip()
        for event in pygame.event.get():
            if event.type==QUIT or event.type==KEYDOWN and event.key==K_ESCAPE:
                k=1
                test=False

            if event.type==KEYDOWN:
                test=False

            if event.type == MOUSEBUTTONDOWN and event.button == 1:
                if event.pos[0]<110 and event.pos[0]>50 and event.pos[1]>430 and event.pos[1]<490:
                    fenetre.blit(fond, (0,0))
                    nb_manche+=1
                    score_display = myfont.render(str(nb_manche), 1, (255,255,255))
                    fenetre.blit(score_display, (63, 490))
                    pygame.display.flip()

                if  event.pos[0]<110 and event.pos[0]>50 and event.pos[1]>530 and event.pos[1]<590:
                    fenetre.blit(fond, (0,0))
                    if nb_manche>0:
                        nb_manche-=1
                    score_display = myfont.render(str(nb_manche), 1, (255,255,255))
                    fenetre.blit(score_display, (63, 490))
                    pygame.display.flip()

                if event.pos[0]<170 and event.pos[0]>110 and event.pos[1]>430 and event.pos[1]<490:
                    pourc_disparition=0.05
                score_display = myfont.render(str(nb_manche), 1, (255,255,255))
                fenetre.blit(score_display, (63, 490))
                pygame.display.flip()

    pygame.display.flip()
    for event in pygame.event.get():
        if event.type==QUIT or event.type==KEYDOWN and event.key==K_ESCAPE:
            k=1

    if k!=1:
#mise en place du jeu sur chaque continents avce tous les habitants
        pers_continent_Asie=continent(nb_manche,pers_continent_Asie,gain)
        pers_continent_Afrique=continent(nb_manche,pers_continent_Afrique,gain)
        pers_continent_Europe=continent(nb_manche,pers_continent_Europe,gain)
        pers_continent_Amsud=continent(nb_manche,pers_continent_Amsud,gain)
        pers_continent_Amnord=continent(nb_manche,pers_continent_Amnord,gain)
        pers_continent_Oceanie=continent(nb_manche,pers_continent_Oceanie,gain)
        pos=0
        pos2=0
        for i in pers_continent_Oceanie:
            for e in liste_couleur:
                if e==i[0]:
                    fenetre.blit(liste_couleur[e], (1080+pos,560+pos2))
                    pos+=20
                    pygame.display.flip()
                    if pos==80:
                        pos2+=20
                        pos=0
        pos=0
        pos2=0
        for i in pers_continent_Asie:
            for e in liste_couleur:
                if e==i[0]:
                    fenetre.blit(liste_couleur[e], (800+pos,100+pos2))
                    pos+=17
                    pygame.display.flip()
                    if pos==459:
                        pos2+=17
                        pos=0
        pos=0
        pos2=0
        for i in pers_continent_Europe:
            for e in liste_couleur:
                if e==i[0]:
                    fenetre.blit(liste_couleur[e], (605+pos,170+pos2))
                    pos+=17
                    pygame.display.flip()
                    if pos==170:
                        pos2+=20
                        pos=0
        pos=0
        pos2=0
        for i in pers_continent_Afrique:
            for e in liste_couleur:
                if e==i[0]:
                    fenetre.blit(liste_couleur[e], (590+pos,351+pos2))
                    pos+=17
                    pygame.display.flip()
                    if pos==170:
                        pos2+=20
                        pos=0
        pos=0
        pos2=0
        for i in pers_continent_Amnord:
            for e in liste_couleur:
                if e==i[0]:
                    fenetre.blit(liste_couleur[e], (185+pos,275+pos2))
                    pos+=17
                    pygame.display.flip()
                    if pos==170:
                        pos2+=20
                        pos=0
        pos=0
        pos2=0
        for i in pers_continent_Amsud:
            for e in liste_couleur:
                if e==i[0]:
                    fenetre.blit(liste_couleur[e], (350+pos,480+pos2))
                    pos+=17
                    pygame.display.flip()
                    if pos==170:
                        pos2+=20
                        pos=0
        pygame.display.flip()

    if k!=1:
#mise à niveaux en fonction du nombre de parties jouees
        for i in range(0,len(pers_continent_Asie)):
            pers_continent_Asie[i][2]=pers_continent_Asie[i][2]/455 #nb de parties jouees en asie

        for i in range(0,len(pers_continent_Afrique)):
            pers_continent_Afrique[i][2]=pers_continent_Afrique[i][2]/120

        for i in range(0,len(pers_continent_Europe)):
            pers_continent_Europe[i][2]=pers_continent_Europe[i][2]/75

        for i in range(0,len(pers_continent_Amsud)):
            pers_continent_Amsud[i][2]=pers_continent_Amsud[i][2]/30

        for i in range(0,len(pers_continent_Amnord)):
            pers_continent_Amnord[i][2]=pers_continent_Amnord[i][2]/37

        for i in range(0,len(pers_continent_Oceanie)):
            pers_continent_Oceanie[i][2]=pers_continent_Oceanie[i][2]/7

    for event in pygame.event.get():
        if event.type==QUIT or event.type==KEYDOWN and event.key==K_ESCAPE:
            k=1
    if k!=1:
#supression des x% pauvre et duplication des riches
        pers_continent_Asie=Maj_pop(pers_continent_Asie,pourc_disparition)
        pers_continent_Afrique=Maj_pop(pers_continent_Afrique,pourc_disparition)
        pers_continent_Europe=Maj_pop(pers_continent_Europe,pourc_disparition)
        pers_continent_Amsud=Maj_pop(pers_continent_Amsud,pourc_disparition)
        pers_continent_Amnord=Maj_pop(pers_continent_Amnord,pourc_disparition)
        pers_continent_Oceanie=Maj_pop(pers_continent_Oceanie,pourc_disparition)
    print(pers_continent_Oceanie)
    if k!=1:
#migrations
        nb_mec_parte=0
        pers_continent_Europe_temp=[]
        pers_continent_Asie_temp=[]
        pers_continent_Amnord_temp=[]
        pers_continent_Oceanie_temp=[]


        for i in ech_continent["Afrique"]:
            nb_mec_parte+=ech_continent["Afrique"][i]
        list_comp=crea_list_comptage_echan("Afrique")
        for e in pers_continent_Afrique:
            if e[2] in classement_de_liste(pers_continent_Afrique)[len(pers_continent_Afrique)-nb_mec_parte+1
                                                            :len(pers_continent_Afrique)]:
                pers_continent_Afrique.remove(e)
                if list_comp[0]!=0:
                    pers_continent_Europe_temp.append(e)
                    list_comp[0]-=1
                else:
                    pers_continent_Asie_temp.append(e)
        nb_mec_parte=0


        for i in ech_continent["Amérique du Sud"]:
            nb_mec_parte+=ech_continent["Amérique du Sud"][i]
        list_comp=crea_list_comptage_echan("Amérique du Sud")
        for e in pers_continent_Amsud:
            if e[2] in classement_de_liste(pers_continent_Amsud)[len(pers_continent_Amsud)-nb_mec_parte+1
                                                               :len(pers_continent_Amsud)]:
                pers_continent_Amsud.remove(e)
                if list_comp[0]!=0:
                    pers_continent_Asie_temp.append(e)
                    list_comp[0]-=1
                else:
                    pers_continent_Amnord_temp.append(e)
        nb_mec_parte=0

        for i in ech_continent["Europe"]:
            nb_mec_parte+=ech_continent["Europe"][i]
        for e in pers_continent_Europe:
            if e[2] in classement_de_liste(pers_continent_Europe)[len(pers_continent_Europe)-nb_mec_parte+1
                                                               :len(pers_continent_Europe)]:
                pers_continent_Europe.remove(e)
                pers_continent_Amnord_temp.append(e)

        nb_mec_parte=0

        for i in ech_continent["Asie"]:
            nb_mec_parte+=ech_continent["Asie"][i]
        list_comp=crea_list_comptage_echan("Asie")
        for e in pers_continent_Asie:
            if e[2] in classement_de_liste(pers_continent_Asie)[len(pers_continent_Asie)-nb_mec_parte+1
                                                               :len(pers_continent_Asie)]:
                pers_continent_Asie.remove(e)
                if list_comp[0]!=0:
                    pers_continent_Amnord_temp.append(e)
                    list_comp[0]-=1
                if list_comp[1]!=0:
                    pers_continent_Europe_temp.append(e)
                    list_comp[1]-=1
                else:
                    pers_continent_Oceanie.append(e)

        nb_mec_parte=0

        for i in ech_continent["Océanie"]:
            nb_mec_parte+=ech_continent["Océanie"][i]
        for e in pers_continent_Oceanie:
            if e[2] in classement_de_liste(pers_continent_Oceanie)[len(pers_continent_Oceanie)-nb_mec_parte+1
                                                               :len(pers_continent_Oceanie)]:
                pers_continent_Oceanie.remove(e)
                pers_continent_Europe_temp.append(e)
        nb_mec_parte=0

        pers_continent_Europe=ajout_temp(pers_continent_Europe,pers_continent_Europe_temp)
        pers_continent_Asie=ajout_temp(pers_continent_Asie,pers_continent_Asie_temp)
        pers_continent_Amnord=ajout_temp(pers_continent_Amnord,pers_continent_Amnord_temp)
        pers_continent_Oceanie=ajout_temp(pers_continent_Oceanie,pers_continent_Oceanie_temp)

        pers_continent_Europe=equili_fin("Europe", pers_continent_Europe,nb_pers_cont)
        pers_continent_Oceanie=equili_fin("Océanie", pers_continent_Oceanie,nb_pers_cont)
        pers_continent_Asie=equili_fin("Asie", pers_continent_Asie,nb_pers_cont)
        pers_continent_Amnord=equili_fin("Amérique du Nord", pers_continent_Amnord,nb_pers_cont)
        pers_continent_Amsud=equili_fin("Amérique du Sud", pers_continent_Amsud,nb_pers_cont)
        pers_continent_Afrique=equili_fin("Afrique", pers_continent_Afrique,nb_pers_cont)

    for event in pygame.event.get():
        if event.type==QUIT or event.type==KEYDOWN and event.key==K_ESCAPE:
            k=1
fenetre.blit(fond, (0,0))
pygame.display.flip()
pygame.quit()
